{
  "cells": [
    {
      "cell_type": "code",
      "execution_count": null,
      "metadata": {
        "colab": {
          "base_uri": "https://localhost:8080/",
          "height": 73
        },
        "id": "I44sLVpYpkew",
        "outputId": "1f2df789-eb5b-4807-a77c-c925b0f8109b"
      },
      "outputs": [
        {
          "ename": "",
          "evalue": "",
          "output_type": "error",
          "traceback": [
            "\u001b[1;31mRunning cells with 'c:\\python.exe' requires the ipykernel package.\n",
            "\u001b[1;31mRun the following command to install 'ipykernel' into the Python environment. \n",
            "\u001b[1;31mCommand: 'c:/python.exe -m pip install ipykernel -U --user --force-reinstall'"
          ]
        }
      ],
      "source": [
        "#import libraries and files\n",
        "import numpy as np\n",
        "import pandas as pd\n",
        "\n",
        "from google.colab import files\n",
        "uploaded = files.upload()\n"
      ]
    },
    {
      "cell_type": "code",
      "execution_count": 27,
      "metadata": {
        "colab": {
          "base_uri": "https://localhost:8080/"
        },
        "id": "3_tvJEZXrq4d",
        "outputId": "0f114ea1-cd82-455f-c654-8774875f4af8"
      },
      "outputs": [
        {
          "name": "stdout",
          "output_type": "stream",
          "text": [
            "it is sorted data of file \n",
            "       Port    Type  Width                                            Comment\n",
            "2  result  Output     16                            Signed operation result\n",
            "6   valid  Output      1    Valid flag to indicare that the result is ready\n",
            "0     clk   Input      1                               Running system clock\n",
            "1   rst_n   Input      1                      Active low asynchronous reset\n",
            "3  enable   Input      1  Active high control to operate the module acco...\n",
            "4    op_a   Input      8                                   Signed Operand A\n",
            "5    op_b   Input      8                                   Signed Operand B\n",
            "7  opcode   Input      4             Unsigned input for operation selection \n",
            "\n",
            "Port Names: ['result', 'valid', 'clk', 'rst_n', 'enable', 'op_a', 'op_b', 'opcode']\n",
            "Port Types: ['Output', 'Output', 'Input', 'Input', 'Input', 'Input', 'Input', 'Input']\n",
            "Port Widths: [16, 1, 1, 1, 1, 8, 8, 4]\n",
            "Port Comments: ['Signed operation result', 'Valid flag to indicare that the result is ready', 'Running system clock', 'Active low asynchronous reset', 'Active high control to operate the module according to opcode', 'Signed Operand A', 'Signed Operand B', 'Unsigned input for operation selection']\n",
            "\n",
            "\n",
            "module generated_code (\n",
            "  \\\\ Signed operation result \n",
            "       Output     [15:0]    o_result,\n",
            "  \\\\ Valid flag to indicare that the result is ready \n",
            "       Output                o_valid,\n",
            "  \\\\ Running system clock \n",
            "       Input                i_clk,\n",
            "  \\\\ Active low asynchronous reset \n",
            "       Input                i_rst_n,\n",
            "  \\\\ Active high control to operate the module according to opcode \n",
            "       Input                i_enable,\n",
            "  \\\\ Signed Operand A \n",
            "       Input     [7:0]    i_op_a,\n",
            "  \\\\ Signed Operand B \n",
            "       Input     [7:0]    i_op_b,\n",
            "  \\\\ Unsigned input for operation selection \n",
            "       Input     [3:0]    i_opcode );\n"
          ]
        }
      ],
      "source": [
        "#read file and sort lines (outputs then inputs)\n",
        "df = pd.read_excel('DATA.xls.xlsx')\n",
        "df_sorted = df.sort_values(by='Type',ascending=False)\n",
        "print(\"it is sorted data of file \\n \",df_sorted,\"\\n\")\n",
        "\n",
        "#create arrays for each column\n",
        "port_names = df_sorted['Port'].tolist()\n",
        "port_types = df_sorted['Type'].tolist()\n",
        "port_widths = df_sorted['Width'].tolist()\n",
        "port_comments = df_sorted['Comment'].tolist()\n",
        "\n",
        "# Print the arrays\n",
        "print(\"Port Names:\", port_names)\n",
        "print(\"Port Types:\", port_types)\n",
        "print(\"Port Widths:\", port_widths)\n",
        "print(\"Port Comments:\", port_comments)\n",
        "\n",
        "#create verilog file\n",
        "fh=open(\"verilog module.v\",'w')\n",
        "fh.write(\"\\n\\nmodule generated_code (\")\n",
        "\n",
        "for i in range(len(port_names)):\n",
        "\n",
        "#write comment of port\n",
        "  fh.write(\"\\n  \\\\\\\\ \"+port_comments[i]+\" \\n\")\n",
        "\n",
        "#write type of port\n",
        "  fh.write(\"       \"+port_types[i]+\"  \")\n",
        "\n",
        "#write width of port\n",
        "  if port_widths[i]==1:\n",
        "    fh.write(\"            \")\n",
        "  else:\n",
        "    fh.write(\"   [\"+str(port_widths[i]-1)+\":0]  \")\n",
        "\n",
        "  if i == (len(port_names)-1):\n",
        "  #write name of port\n",
        "    if port_types[i]==\"Input\":\n",
        "      fh.write(\"  i_\" + port_names[i])\n",
        "    else:\n",
        "      fh.write(\"  o_\" + port_names[i])\n",
        "  else:\n",
        "    #write name of port\n",
        "    if port_types[i]==\"Input\":\n",
        "      fh.write(\"  i_\" + port_names[i]+\",\")\n",
        "    else:\n",
        "      fh.write(\"  o_\" + port_names[i]+\",\")\n",
        "\n",
        "fh.write(\" );\")\n",
        "fh.close()\n",
        "\n",
        "#open verilog file to test output file\n",
        "fh=open(\"verilog module.v\",'r')\n",
        "print(fh.read())\n",
        "fh.close()"
      ]
    }
  ],
  "metadata": {
    "colab": {
      "provenance": []
    },
    "kernelspec": {
      "display_name": "Python 3",
      "name": "python3"
    },
    "language_info": {
      "name": "python",
      "version": "3.11.3"
    }
  },
  "nbformat": 4,
  "nbformat_minor": 0
}
